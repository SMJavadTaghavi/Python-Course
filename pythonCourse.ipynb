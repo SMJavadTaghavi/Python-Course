{
  "nbformat": 4,
  "nbformat_minor": 0,
  "metadata": {
    "colab": {
      "provenance": []
    },
    "kernelspec": {
      "name": "python3",
      "display_name": "Python 3"
    },
    "language_info": {
      "name": "python"
    }
  },
  "cells": [
    {
      "cell_type": "markdown",
      "source": [
        "# **Phase 1: Getting Started with Python**\n",
        "\n",
        "● Lesson 1: Welcome to Python\n",
        "\n",
        "○ Introduction to Programming\n",
        "\n",
        "○ Python Basics: Overview & First Script\n",
        "\n",
        "○ Installing and Setting Up Python\n"
      ],
      "metadata": {
        "id": "idbWdi48kOeq"
      }
    },
    {
      "cell_type": "code",
      "source": [
        "print('hello python!')"
      ],
      "metadata": {
        "id": "m0ClMxy5kSSB",
        "outputId": "2ed803f2-9845-4055-cbc2-e9df791776c2",
        "colab": {
          "base_uri": "https://localhost:8080/"
        }
      },
      "execution_count": null,
      "outputs": [
        {
          "output_type": "stream",
          "name": "stdout",
          "text": [
            "hello python!\n"
          ]
        }
      ]
    },
    {
      "cell_type": "markdown",
      "source": [
        "# **● Lesson 2: Building Blocks of Python**\n",
        "\n",
        "○ Variables and Data Types and Operators\n",
        "\n",
        "○ Taking User Input\n",
        "\n",
        "○ Writing Comments and Documentation"
      ],
      "metadata": {
        "id": "ibO3v7g9YVA_"
      }
    },
    {
      "cell_type": "markdown",
      "source": [
        "block"
      ],
      "metadata": {
        "id": "6YsrqGwGX5if"
      }
    },
    {
      "cell_type": "code",
      "source": [
        "# if x > y :\n",
        "#   print(okey) # 1 tab"
      ],
      "metadata": {
        "id": "ZWqncJRMWyQh"
      },
      "execution_count": null,
      "outputs": []
    },
    {
      "cell_type": "markdown",
      "source": [
        "variables"
      ],
      "metadata": {
        "id": "AiXTXsQXYcXo"
      }
    },
    {
      "cell_type": "code",
      "source": [
        "x = 2 # int data type"
      ],
      "metadata": {
        "id": "Y8hnYfcrWyJo"
      },
      "execution_count": null,
      "outputs": []
    },
    {
      "cell_type": "code",
      "source": [
        "print(type(x))"
      ],
      "metadata": {
        "colab": {
          "base_uri": "https://localhost:8080/"
        },
        "id": "hYwfIuKQYQM-",
        "outputId": "0f9cca5f-2662-441d-9889-646ef0d61af7"
      },
      "execution_count": null,
      "outputs": [
        {
          "output_type": "stream",
          "name": "stdout",
          "text": [
            "<class 'int'>\n"
          ]
        }
      ]
    },
    {
      "cell_type": "markdown",
      "source": [
        "comment biliding"
      ],
      "metadata": {
        "id": "sezW5LyvYpMO"
      }
    },
    {
      "cell_type": "code",
      "source": [
        "# comment"
      ],
      "metadata": {
        "id": "YIpqCQx4YULu"
      },
      "execution_count": null,
      "outputs": []
    },
    {
      "cell_type": "code",
      "source": [
        "print(' 222 ')\n",
        "''' comment '''\n",
        "\n",
        "\"\"\" comment \"\"\""
      ],
      "metadata": {
        "colab": {
          "base_uri": "https://localhost:8080/",
          "height": 52
        },
        "id": "gDsRHvaYYxSA",
        "outputId": "0fe3ec10-294d-45a9-e168-650305adfcfd",
        "collapsed": true
      },
      "execution_count": null,
      "outputs": [
        {
          "output_type": "stream",
          "name": "stdout",
          "text": [
            " 222 \n"
          ]
        },
        {
          "output_type": "execute_result",
          "data": {
            "text/plain": [
              "' comment '"
            ],
            "application/vnd.google.colaboratory.intrinsic+json": {
              "type": "string"
            }
          },
          "metadata": {},
          "execution_count": 8
        }
      ]
    },
    {
      "cell_type": "markdown",
      "source": [
        "# Data Types"
      ],
      "metadata": {
        "id": "dvD2SWqTr7sj"
      }
    },
    {
      "cell_type": "markdown",
      "source": [
        "int"
      ],
      "metadata": {
        "id": "kpKVY6Sbtcsx"
      }
    },
    {
      "cell_type": "code",
      "source": [
        "x = 2\n",
        "print(x, type(x))"
      ],
      "metadata": {
        "colab": {
          "base_uri": "https://localhost:8080/"
        },
        "id": "FHQqwpw4sQN0",
        "outputId": "624091ca-85dc-4456-ce65-aa0e06bcce6f"
      },
      "execution_count": null,
      "outputs": [
        {
          "output_type": "stream",
          "name": "stdout",
          "text": [
            "2 <class 'int'>\n"
          ]
        }
      ]
    },
    {
      "cell_type": "markdown",
      "source": [
        "float"
      ],
      "metadata": {
        "id": "6EMZxLgUtquz"
      }
    },
    {
      "cell_type": "code",
      "source": [
        "f = 4.6 # float\n",
        "print(f, type(x))"
      ],
      "metadata": {
        "colab": {
          "base_uri": "https://localhost:8080/"
        },
        "id": "MiIEXm4EsP6c",
        "outputId": "a8581ab0-2444-4fc8-c5d8-2efe5bf623a3"
      },
      "execution_count": null,
      "outputs": [
        {
          "output_type": "stream",
          "name": "stdout",
          "text": [
            "4.6 <class 'int'>\n"
          ]
        }
      ]
    },
    {
      "cell_type": "markdown",
      "source": [
        "complax"
      ],
      "metadata": {
        "id": "BCT3t2jyt80j"
      }
    },
    {
      "cell_type": "code",
      "source": [
        "c = 31j # complex\n",
        "print(c, type(c))"
      ],
      "metadata": {
        "colab": {
          "base_uri": "https://localhost:8080/"
        },
        "id": "Y5clsJgvtyL0",
        "outputId": "a1b0e312-d1b6-4dfe-fc73-f3c6d36214ae"
      },
      "execution_count": null,
      "outputs": [
        {
          "output_type": "stream",
          "name": "stdout",
          "text": [
            "31j <class 'complex'>\n"
          ]
        }
      ]
    },
    {
      "cell_type": "markdown",
      "source": [
        "string"
      ],
      "metadata": {
        "id": "UJPX8YnWuPbD"
      }
    },
    {
      "cell_type": "code",
      "source": [
        "s1 = 'javad'\n",
        "s2 = \"hello javad!\"\n",
        "\n",
        "print('name:', s1, '\\nstring bilding:', s2)\n",
        "print(type(s1))"
      ],
      "metadata": {
        "colab": {
          "base_uri": "https://localhost:8080/"
        },
        "id": "-KT-tBHGuDwm",
        "outputId": "1264e8ce-d8d4-4757-b39f-454a83479a40"
      },
      "execution_count": null,
      "outputs": [
        {
          "output_type": "stream",
          "name": "stdout",
          "text": [
            "name: javad \n",
            "string bilding: hello javad!\n",
            "<class 'str'>\n"
          ]
        }
      ]
    },
    {
      "cell_type": "markdown",
      "source": [
        "# input in Python"
      ],
      "metadata": {
        "id": "Tqd73Wfku2-C"
      }
    },
    {
      "cell_type": "code",
      "source": [
        "x = input('Enter number, pleas:')"
      ],
      "metadata": {
        "colab": {
          "base_uri": "https://localhost:8080/"
        },
        "id": "hDV8M6iqumRs",
        "outputId": "da228726-081e-4c92-e0ca-152b3a987215"
      },
      "execution_count": null,
      "outputs": [
        {
          "name": "stdout",
          "output_type": "stream",
          "text": [
            "Enter number, pleas:javad\n"
          ]
        }
      ]
    },
    {
      "cell_type": "code",
      "source": [
        "print(x)"
      ],
      "metadata": {
        "colab": {
          "base_uri": "https://localhost:8080/"
        },
        "id": "TdKhKLq5vHK_",
        "outputId": "778fb55d-284e-4e94-c2e7-99d09b1c855b"
      },
      "execution_count": null,
      "outputs": [
        {
          "output_type": "stream",
          "name": "stdout",
          "text": [
            "javad\n"
          ]
        }
      ]
    },
    {
      "cell_type": "code",
      "source": [
        "str1 = str(input('Enter name:'))"
      ],
      "metadata": {
        "colab": {
          "base_uri": "https://localhost:8080/"
        },
        "id": "-S9BaettvINc",
        "outputId": "c22c3001-06c9-4733-e7b2-5990af1b33b0"
      },
      "execution_count": null,
      "outputs": [
        {
          "name": "stdout",
          "output_type": "stream",
          "text": [
            "Enter name:2\n"
          ]
        }
      ]
    },
    {
      "cell_type": "code",
      "source": [
        "print(str1)\n",
        "print(type(str1))"
      ],
      "metadata": {
        "colab": {
          "base_uri": "https://localhost:8080/"
        },
        "id": "7ru-yHvlvbUV",
        "outputId": "328b2b97-0f79-435d-8fd7-22de19a4bfb4"
      },
      "execution_count": null,
      "outputs": [
        {
          "output_type": "stream",
          "name": "stdout",
          "text": [
            "2\n",
            "<class 'str'>\n"
          ]
        }
      ]
    },
    {
      "cell_type": "code",
      "source": [
        "int1 = int(input('Enter number:'))"
      ],
      "metadata": {
        "colab": {
          "base_uri": "https://localhost:8080/"
        },
        "id": "ORx3lH0tvjLF",
        "outputId": "ce63045a-ae17-4adf-9785-ddc1563920c2"
      },
      "execution_count": null,
      "outputs": [
        {
          "name": "stdout",
          "output_type": "stream",
          "text": [
            "Enter number:23\n"
          ]
        }
      ]
    },
    {
      "cell_type": "code",
      "source": [
        "print(int1)\n",
        "print(type(int1))"
      ],
      "metadata": {
        "colab": {
          "base_uri": "https://localhost:8080/"
        },
        "id": "Mvcfh8mxvuY_",
        "outputId": "34beb13c-c663-4b64-b88b-2c6ac440b9fc"
      },
      "execution_count": null,
      "outputs": [
        {
          "output_type": "stream",
          "name": "stdout",
          "text": [
            "23\n",
            "<class 'int'>\n"
          ]
        }
      ]
    },
    {
      "cell_type": "markdown",
      "source": [
        "Ex1:"
      ],
      "metadata": {
        "id": "RUY19EBCv_Eh"
      }
    },
    {
      "cell_type": "code",
      "source": [
        "x = int(input('Enter number or string:'))\n",
        "print(type(x))"
      ],
      "metadata": {
        "colab": {
          "base_uri": "https://localhost:8080/"
        },
        "id": "H3hFE2TDv5VM",
        "outputId": "253cbaa0-7ff5-4c0c-d3c5-e41d03bad348"
      },
      "execution_count": null,
      "outputs": [
        {
          "output_type": "stream",
          "name": "stdout",
          "text": [
            "Enter number or string:25\n",
            "<class 'int'>\n"
          ]
        }
      ]
    },
    {
      "cell_type": "markdown",
      "source": [
        "# Operators  in Pyhton"
      ],
      "metadata": {
        "id": "ajhBuQ70JXte"
      }
    },
    {
      "cell_type": "code",
      "source": [
        "x = 2\n",
        "y = 3\n",
        "z = x + y\n",
        "print('sum x,y: ',z)"
      ],
      "metadata": {
        "id": "4AgXRvHOwY69",
        "colab": {
          "base_uri": "https://localhost:8080/"
        },
        "outputId": "e70cc55a-6bf4-4cdf-f930-712a0b58881d"
      },
      "execution_count": null,
      "outputs": [
        {
          "output_type": "stream",
          "name": "stdout",
          "text": [
            "sum x,y:  5\n"
          ]
        }
      ]
    },
    {
      "cell_type": "code",
      "source": [
        "z2 = x/y\n",
        "print('z2:',z2)"
      ],
      "metadata": {
        "colab": {
          "base_uri": "https://localhost:8080/"
        },
        "id": "28yYd_t8Lj10",
        "outputId": "bc5eebd2-0e8f-4ab8-f962-13351bc60786"
      },
      "execution_count": null,
      "outputs": [
        {
          "output_type": "stream",
          "name": "stdout",
          "text": [
            "z2: 0.6666666666666666\n"
          ]
        }
      ]
    },
    {
      "cell_type": "code",
      "source": [
        "x*=y\n",
        "print('x:',x)"
      ],
      "metadata": {
        "colab": {
          "base_uri": "https://localhost:8080/"
        },
        "id": "jneJU08YLsVK",
        "outputId": "54e320c9-ec7a-406a-bb8a-2bc679c9e97c"
      },
      "execution_count": null,
      "outputs": [
        {
          "output_type": "stream",
          "name": "stdout",
          "text": [
            "x: 6\n"
          ]
        }
      ]
    },
    {
      "cell_type": "code",
      "source": [
        "x%=y\n",
        "print('x:',x)"
      ],
      "metadata": {
        "colab": {
          "base_uri": "https://localhost:8080/"
        },
        "id": "g07hEhC_L_wq",
        "outputId": "7f4d2eb2-382e-4524-cb6e-e5e2e9ac21ee"
      },
      "execution_count": null,
      "outputs": [
        {
          "output_type": "stream",
          "name": "stdout",
          "text": [
            "x: 0\n"
          ]
        }
      ]
    },
    {
      "cell_type": "code",
      "source": [
        "c1 = x == y\n",
        "print('c1:',c1)"
      ],
      "metadata": {
        "colab": {
          "base_uri": "https://localhost:8080/"
        },
        "id": "zxLVQez9MG_Z",
        "outputId": "aca3469e-d597-4e03-cbbc-db7118dd3512"
      },
      "execution_count": null,
      "outputs": [
        {
          "output_type": "stream",
          "name": "stdout",
          "text": [
            "c1: False\n"
          ]
        }
      ]
    },
    {
      "cell_type": "code",
      "source": [
        "print(x!=y)"
      ],
      "metadata": {
        "colab": {
          "base_uri": "https://localhost:8080/"
        },
        "id": "IylEgO_nMSWy",
        "outputId": "54b750db-bd03-4498-ca7f-983813bfd68b"
      },
      "execution_count": null,
      "outputs": [
        {
          "output_type": "stream",
          "name": "stdout",
          "text": [
            "True\n"
          ]
        }
      ]
    },
    {
      "cell_type": "code",
      "source": [
        "print(x>y)"
      ],
      "metadata": {
        "colab": {
          "base_uri": "https://localhost:8080/"
        },
        "id": "HfSJ2WxcMZ98",
        "outputId": "53d2f4db-fe80-4e05-8223-07664b59e394"
      },
      "execution_count": null,
      "outputs": [
        {
          "output_type": "stream",
          "name": "stdout",
          "text": [
            "False\n"
          ]
        }
      ]
    },
    {
      "cell_type": "code",
      "source": [
        "print(x and y)"
      ],
      "metadata": {
        "colab": {
          "base_uri": "https://localhost:8080/"
        },
        "id": "OmXuHGeMMlFw",
        "outputId": "b3619341-15d6-41df-f17e-089d5db34437"
      },
      "execution_count": null,
      "outputs": [
        {
          "output_type": "stream",
          "name": "stdout",
          "text": [
            "0\n"
          ]
        }
      ]
    },
    {
      "cell_type": "code",
      "source": [
        "print(x or y)"
      ],
      "metadata": {
        "colab": {
          "base_uri": "https://localhost:8080/"
        },
        "id": "ZQTFmnchMzKI",
        "outputId": "ffd56cf0-317b-42f3-f702-a324f376c587"
      },
      "execution_count": null,
      "outputs": [
        {
          "output_type": "stream",
          "name": "stdout",
          "text": [
            "3\n"
          ]
        }
      ]
    },
    {
      "cell_type": "code",
      "source": [
        "print(not y)"
      ],
      "metadata": {
        "colab": {
          "base_uri": "https://localhost:8080/"
        },
        "id": "rm1hPOuyM3AN",
        "outputId": "c804f445-a57c-4211-82be-a6a32f8fd923"
      },
      "execution_count": null,
      "outputs": [
        {
          "output_type": "stream",
          "name": "stdout",
          "text": [
            "False\n"
          ]
        }
      ]
    },
    {
      "cell_type": "markdown",
      "source": [
        "# ● Lesson 3: Decision Making and Loops\n",
        "\n",
        "○ Conditional Statements (if, elif, else)\n",
        "\n",
        "○ Loops (for and while)"
      ],
      "metadata": {
        "id": "9tZDN5c3N0ao"
      }
    },
    {
      "cell_type": "code",
      "source": [
        "x = 5.1\n",
        "if x <= 5:\n",
        "  print('yes')\n",
        "else:\n",
        "  print('no')"
      ],
      "metadata": {
        "colab": {
          "base_uri": "https://localhost:8080/"
        },
        "id": "C8lvUvD6M9m0",
        "outputId": "5a4a13a9-96d5-4913-d886-2ef97346f799"
      },
      "execution_count": null,
      "outputs": [
        {
          "output_type": "stream",
          "name": "stdout",
          "text": [
            "no\n"
          ]
        }
      ]
    },
    {
      "cell_type": "code",
      "source": [
        "x = int(input('Enter number:'))\n",
        "\n",
        "if x%2==0:\n",
        "  print('even')\n",
        "else:\n",
        "  print('odd')"
      ],
      "metadata": {
        "colab": {
          "base_uri": "https://localhost:8080/"
        },
        "id": "O7DPvTfIQJiY",
        "outputId": "5a4b2ba5-060b-4898-9af6-6b0669bb0ece"
      },
      "execution_count": null,
      "outputs": [
        {
          "output_type": "stream",
          "name": "stdout",
          "text": [
            "Enter number:11\n",
            "odd\n"
          ]
        }
      ]
    },
    {
      "cell_type": "code",
      "source": [
        "x = int(input('Enter number:'))\n",
        "\n",
        "if x>0:\n",
        "  print('positive')\n",
        "elif x<0:\n",
        "  print('negative')\n",
        "else:\n",
        "  print('zero')"
      ],
      "metadata": {
        "colab": {
          "base_uri": "https://localhost:8080/"
        },
        "id": "mBqRxeJ9Q8IH",
        "outputId": "c826ae50-ae4a-4e9a-8599-f6845f271cbc"
      },
      "execution_count": null,
      "outputs": [
        {
          "output_type": "stream",
          "name": "stdout",
          "text": [
            "Enter number:0\n",
            "zero\n"
          ]
        }
      ]
    }
  ]
}